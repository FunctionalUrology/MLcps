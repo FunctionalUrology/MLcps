{
 "cells": [
  {
   "cell_type": "markdown",
   "id": "8e5f363b",
   "metadata": {},
   "source": [
    "## Import MLcps"
   ]
  },
  {
   "cell_type": "code",
   "execution_count": 1,
   "id": "b7faafb8",
   "metadata": {},
   "outputs": [],
   "source": [
    "#import MLcps\n",
    "from MLcps import getCPS"
   ]
  },
  {
   "cell_type": "markdown",
   "id": "a1ebe4cf",
   "metadata": {},
   "source": [
    "#### Create Input dataframe for MLcps"
   ]
  },
  {
   "cell_type": "code",
   "execution_count": 2,
   "id": "2f2f3bc8",
   "metadata": {},
   "outputs": [
    {
     "data": {
      "text/html": [
       "<div>\n",
       "<style scoped>\n",
       "    .dataframe tbody tr th:only-of-type {\n",
       "        vertical-align: middle;\n",
       "    }\n",
       "\n",
       "    .dataframe tbody tr th {\n",
       "        vertical-align: top;\n",
       "    }\n",
       "\n",
       "    .dataframe thead th {\n",
       "        text-align: right;\n",
       "    }\n",
       "</style>\n",
       "<table border=\"1\" class=\"dataframe\">\n",
       "  <thead>\n",
       "    <tr style=\"text-align: right;\">\n",
       "      <th></th>\n",
       "      <th>accuracy</th>\n",
       "      <th>balanced_accuracy</th>\n",
       "      <th>precision</th>\n",
       "      <th>recall</th>\n",
       "      <th>f1</th>\n",
       "      <th>Matthews_correlation_coefficient</th>\n",
       "    </tr>\n",
       "  </thead>\n",
       "  <tbody>\n",
       "    <tr>\n",
       "      <th>SVM rbf</th>\n",
       "      <td>0.88811</td>\n",
       "      <td>0.86136</td>\n",
       "      <td>0.86</td>\n",
       "      <td>0.97727</td>\n",
       "      <td>0.91489</td>\n",
       "      <td>0.76677</td>\n",
       "    </tr>\n",
       "    <tr>\n",
       "      <th>SVM linear</th>\n",
       "      <td>0.88811</td>\n",
       "      <td>0.87841</td>\n",
       "      <td>0.90</td>\n",
       "      <td>0.92045</td>\n",
       "      <td>0.91011</td>\n",
       "      <td>0.76235</td>\n",
       "    </tr>\n",
       "    <tr>\n",
       "      <th>KNN</th>\n",
       "      <td>0.78811</td>\n",
       "      <td>0.82841</td>\n",
       "      <td>0.80</td>\n",
       "      <td>0.82000</td>\n",
       "      <td>0.89110</td>\n",
       "      <td>0.71565</td>\n",
       "    </tr>\n",
       "  </tbody>\n",
       "</table>\n",
       "</div>"
      ],
      "text/plain": [
       "            accuracy  balanced_accuracy  precision   recall       f1  \\\n",
       "SVM rbf      0.88811            0.86136       0.86  0.97727  0.91489   \n",
       "SVM linear   0.88811            0.87841       0.90  0.92045  0.91011   \n",
       "KNN          0.78811            0.82841       0.80  0.82000  0.89110   \n",
       "\n",
       "            Matthews_correlation_coefficient  \n",
       "SVM rbf                              0.76677  \n",
       "SVM linear                           0.76235  \n",
       "KNN                                  0.71565  "
      ]
     },
     "execution_count": 2,
     "metadata": {},
     "output_type": "execute_result"
    }
   ],
   "source": [
    "import pandas as pd\n",
    "metrics_list=[]\n",
    "\n",
    "#Metrics from SVC model (kernel=rbf)\n",
    "acc = 0.88811 #accuracy\n",
    "bacc = 0.86136 #balanced_accuracy\n",
    "prec = 0.86 #precision\n",
    "rec = 0.97727 #recall\n",
    "f1 = 0.91489 #F1\n",
    "mcc = 0.76677 #Matthews_correlation_coefficient\n",
    "metrics_list.append([acc,bacc,prec,rec,f1,mcc])\n",
    "\n",
    "#Metrics from SVC model (kernel=linear)\n",
    "acc = 0.88811\n",
    "bacc = 0.87841\n",
    "prec = 0.90\n",
    "rec = 0.92045\n",
    "f1 = 0.91011\n",
    "mcc = 0.76235\n",
    "metrics_list.append([acc,bacc,prec,rec,f1,mcc])\n",
    "\n",
    "#Metrics from KNN\n",
    "acc = 0.78811\n",
    "bacc = 0.82841\n",
    "prec = 0.80\n",
    "rec = 0.82\n",
    "f1 = 0.8911\n",
    "mcc = 0.71565\n",
    "metrics_list.append([acc,bacc,prec,rec,f1,mcc])\n",
    "\n",
    "metrics=pd.DataFrame(metrics_list,index=[\"SVM rbf\",\"SVM linear\",\"KNN\"],columns=[\"accuracy\",\"balanced_accuracy\",\"precision\",\"recall\",\"f1\",\"Matthews_correlation_coefficient\"])\n",
    "metrics\n"
   ]
  },
  {
   "cell_type": "markdown",
   "id": "5a8c6cb0",
   "metadata": {},
   "source": [
    "#### Alternatively, load an example dataframe from MLcps"
   ]
  },
  {
   "cell_type": "code",
   "execution_count": 3,
   "id": "58a030c2",
   "metadata": {
    "scrolled": true
   },
   "outputs": [
    {
     "data": {
      "text/html": [
       "<div>\n",
       "<style scoped>\n",
       "    .dataframe tbody tr th:only-of-type {\n",
       "        vertical-align: middle;\n",
       "    }\n",
       "\n",
       "    .dataframe tbody tr th {\n",
       "        vertical-align: top;\n",
       "    }\n",
       "\n",
       "    .dataframe thead th {\n",
       "        text-align: right;\n",
       "    }\n",
       "</style>\n",
       "<table border=\"1\" class=\"dataframe\">\n",
       "  <thead>\n",
       "    <tr style=\"text-align: right;\">\n",
       "      <th></th>\n",
       "      <th>Accuracy</th>\n",
       "      <th>Balanced Acc</th>\n",
       "      <th>F1</th>\n",
       "      <th>Recall</th>\n",
       "      <th>Precision</th>\n",
       "      <th>Avg precision</th>\n",
       "      <th>roc_auc</th>\n",
       "    </tr>\n",
       "  </thead>\n",
       "  <tbody>\n",
       "    <tr>\n",
       "      <th>Dummy</th>\n",
       "      <td>0.506</td>\n",
       "      <td>0.512</td>\n",
       "      <td>0.651</td>\n",
       "      <td>0.505</td>\n",
       "      <td>0.917</td>\n",
       "      <td>0.916</td>\n",
       "      <td>0.512</td>\n",
       "    </tr>\n",
       "    <tr>\n",
       "      <th>LDA</th>\n",
       "      <td>0.938</td>\n",
       "      <td>0.902</td>\n",
       "      <td>0.965</td>\n",
       "      <td>0.946</td>\n",
       "      <td>0.986</td>\n",
       "      <td>0.995</td>\n",
       "      <td>0.964</td>\n",
       "    </tr>\n",
       "    <tr>\n",
       "      <th>GP</th>\n",
       "      <td>0.939</td>\n",
       "      <td>0.963</td>\n",
       "      <td>0.965</td>\n",
       "      <td>0.934</td>\n",
       "      <td>0.999</td>\n",
       "      <td>0.977</td>\n",
       "      <td>0.869</td>\n",
       "    </tr>\n",
       "    <tr>\n",
       "      <th>BC</th>\n",
       "      <td>0.983</td>\n",
       "      <td>0.948</td>\n",
       "      <td>0.991</td>\n",
       "      <td>0.990</td>\n",
       "      <td>0.991</td>\n",
       "      <td>0.998</td>\n",
       "      <td>0.987</td>\n",
       "    </tr>\n",
       "    <tr>\n",
       "      <th>RF</th>\n",
       "      <td>0.987</td>\n",
       "      <td>0.954</td>\n",
       "      <td>0.993</td>\n",
       "      <td>0.994</td>\n",
       "      <td>0.992</td>\n",
       "      <td>0.999</td>\n",
       "      <td>0.997</td>\n",
       "    </tr>\n",
       "    <tr>\n",
       "      <th>ETC</th>\n",
       "      <td>0.988</td>\n",
       "      <td>0.958</td>\n",
       "      <td>0.993</td>\n",
       "      <td>0.994</td>\n",
       "      <td>0.993</td>\n",
       "      <td>1.000</td>\n",
       "      <td>0.997</td>\n",
       "    </tr>\n",
       "    <tr>\n",
       "      <th>SVM</th>\n",
       "      <td>0.991</td>\n",
       "      <td>0.983</td>\n",
       "      <td>0.995</td>\n",
       "      <td>0.993</td>\n",
       "      <td>0.998</td>\n",
       "      <td>1.000</td>\n",
       "      <td>0.998</td>\n",
       "    </tr>\n",
       "    <tr>\n",
       "      <th>LR</th>\n",
       "      <td>0.994</td>\n",
       "      <td>0.989</td>\n",
       "      <td>0.997</td>\n",
       "      <td>0.995</td>\n",
       "      <td>0.998</td>\n",
       "      <td>1.000</td>\n",
       "      <td>0.998</td>\n",
       "    </tr>\n",
       "  </tbody>\n",
       "</table>\n",
       "</div>"
      ],
      "text/plain": [
       "       Accuracy  Balanced Acc     F1  Recall  Precision  Avg precision  \\\n",
       "Dummy     0.506         0.512  0.651   0.505      0.917          0.916   \n",
       "LDA       0.938         0.902  0.965   0.946      0.986          0.995   \n",
       "GP        0.939         0.963  0.965   0.934      0.999          0.977   \n",
       "BC        0.983         0.948  0.991   0.990      0.991          0.998   \n",
       "RF        0.987         0.954  0.993   0.994      0.992          0.999   \n",
       "ETC       0.988         0.958  0.993   0.994      0.993          1.000   \n",
       "SVM       0.991         0.983  0.995   0.993      0.998          1.000   \n",
       "LR        0.994         0.989  0.997   0.995      0.998          1.000   \n",
       "\n",
       "       roc_auc  \n",
       "Dummy    0.512  \n",
       "LDA      0.964  \n",
       "GP       0.869  \n",
       "BC       0.987  \n",
       "RF       0.997  \n",
       "ETC      0.997  \n",
       "SVM      0.998  \n",
       "LR       0.998  "
      ]
     },
     "execution_count": 3,
     "metadata": {},
     "output_type": "execute_result"
    }
   ],
   "source": [
    "#read input data (a dataframe) or load an example data\n",
    "metrics_example=getCPS.sample_metrics()\n",
    "metrics_example"
   ]
  },
  {
   "cell_type": "markdown",
   "id": "d230af2b",
   "metadata": {},
   "source": [
    "## Calculate MLcps (Machine Learning cumulative performance score)"
   ]
  },
  {
   "cell_type": "code",
   "execution_count": 4,
   "id": "a450734e",
   "metadata": {
    "scrolled": true
   },
   "outputs": [
    {
     "data": {
      "text/html": [
       "<div>\n",
       "<style scoped>\n",
       "    .dataframe tbody tr th:only-of-type {\n",
       "        vertical-align: middle;\n",
       "    }\n",
       "\n",
       "    .dataframe tbody tr th {\n",
       "        vertical-align: top;\n",
       "    }\n",
       "\n",
       "    .dataframe thead th {\n",
       "        text-align: right;\n",
       "    }\n",
       "</style>\n",
       "<table border=\"1\" class=\"dataframe\">\n",
       "  <thead>\n",
       "    <tr style=\"text-align: right;\">\n",
       "      <th></th>\n",
       "      <th>Algorithms</th>\n",
       "      <th>Score</th>\n",
       "    </tr>\n",
       "  </thead>\n",
       "  <tbody>\n",
       "    <tr>\n",
       "      <th>1</th>\n",
       "      <td>KNN</td>\n",
       "      <td>1.690497</td>\n",
       "    </tr>\n",
       "    <tr>\n",
       "      <th>2</th>\n",
       "      <td>SVM linear</td>\n",
       "      <td>1.995185</td>\n",
       "    </tr>\n",
       "    <tr>\n",
       "      <th>3</th>\n",
       "      <td>SVM rbf</td>\n",
       "      <td>2.001725</td>\n",
       "    </tr>\n",
       "  </tbody>\n",
       "</table>\n",
       "</div>"
      ],
      "text/plain": [
       "   Algorithms     Score\n",
       "1         KNN  1.690497\n",
       "2  SVM linear  1.995185\n",
       "3     SVM rbf  2.001725"
      ]
     },
     "execution_count": 4,
     "metadata": {},
     "output_type": "execute_result"
    }
   ],
   "source": [
    "#calculate Machine Learning cumulative performance score\n",
    "cpsScore=getCPS.calculate(metrics)\n",
    "cpsScore"
   ]
  },
  {
   "cell_type": "code",
   "execution_count": 5,
   "id": "1c20ffe9",
   "metadata": {},
   "outputs": [
    {
     "data": {
      "text/html": [
       "<div>\n",
       "<style scoped>\n",
       "    .dataframe tbody tr th:only-of-type {\n",
       "        vertical-align: middle;\n",
       "    }\n",
       "\n",
       "    .dataframe tbody tr th {\n",
       "        vertical-align: top;\n",
       "    }\n",
       "\n",
       "    .dataframe thead th {\n",
       "        text-align: right;\n",
       "    }\n",
       "</style>\n",
       "<table border=\"1\" class=\"dataframe\">\n",
       "  <thead>\n",
       "    <tr style=\"text-align: right;\">\n",
       "      <th></th>\n",
       "      <th>Algorithms</th>\n",
       "      <th>Score</th>\n",
       "    </tr>\n",
       "  </thead>\n",
       "  <tbody>\n",
       "    <tr>\n",
       "      <th>1</th>\n",
       "      <td>Dummy</td>\n",
       "      <td>1.154085</td>\n",
       "    </tr>\n",
       "    <tr>\n",
       "      <th>2</th>\n",
       "      <td>GP</td>\n",
       "      <td>2.466270</td>\n",
       "    </tr>\n",
       "    <tr>\n",
       "      <th>3</th>\n",
       "      <td>LDA</td>\n",
       "      <td>2.504454</td>\n",
       "    </tr>\n",
       "    <tr>\n",
       "      <th>4</th>\n",
       "      <td>BC</td>\n",
       "      <td>2.649548</td>\n",
       "    </tr>\n",
       "    <tr>\n",
       "      <th>5</th>\n",
       "      <td>RF</td>\n",
       "      <td>2.671151</td>\n",
       "    </tr>\n",
       "    <tr>\n",
       "      <th>6</th>\n",
       "      <td>ETC</td>\n",
       "      <td>2.676568</td>\n",
       "    </tr>\n",
       "    <tr>\n",
       "      <th>7</th>\n",
       "      <td>SVM</td>\n",
       "      <td>2.703692</td>\n",
       "    </tr>\n",
       "    <tr>\n",
       "      <th>8</th>\n",
       "      <td>LR</td>\n",
       "      <td>2.713790</td>\n",
       "    </tr>\n",
       "  </tbody>\n",
       "</table>\n",
       "</div>"
      ],
      "text/plain": [
       "  Algorithms     Score\n",
       "1      Dummy  1.154085\n",
       "2         GP  2.466270\n",
       "3        LDA  2.504454\n",
       "4         BC  2.649548\n",
       "5         RF  2.671151\n",
       "6        ETC  2.676568\n",
       "7        SVM  2.703692\n",
       "8         LR  2.713790"
      ]
     },
     "execution_count": 5,
     "metadata": {},
     "output_type": "execute_result"
    }
   ],
   "source": [
    "#calculate Machine Learning cumulative performance score\n",
    "cpsScore=getCPS.calculate(metrics_example)\n",
    "cpsScore"
   ]
  },
  {
   "cell_type": "markdown",
   "id": "675fcead",
   "metadata": {},
   "source": [
    "## Plot MLcps"
   ]
  },
  {
   "cell_type": "code",
   "execution_count": 6,
   "id": "58fdeb85",
   "metadata": {},
   "outputs": [
    {
     "data": {
      "text/html": [
       "<iframe\n",
       "    scrolling=\"no\"\n",
       "    width=\"720px\"\n",
       "    height=\"1020\"\n",
       "    src=\"iframe_figures/figure_6.html\"\n",
       "    frameborder=\"0\"\n",
       "    allowfullscreen\n",
       "></iframe>\n"
      ]
     },
     "metadata": {},
     "output_type": "display_data"
    }
   ],
   "source": [
    "import plotly.express as px\n",
    "from plotly.offline import plot\n",
    "import plotly.io as pio\n",
    "pio.renderers.default = 'iframe' \n",
    "\n",
    "fig = px.bar(cpsScore, x='Score', y='Algorithms',color='Score',labels={'MLcps Score'},\n",
    "             width=700,height=1000,text_auto=True)\n",
    "\n",
    "fig.update_xaxes(title_text=\"MLcps\")\n",
    "fig"
   ]
  },
  {
   "cell_type": "markdown",
   "id": "6048d1e3",
   "metadata": {},
   "source": [
    "## MLcps for GridSearch object\n",
    "##### Calculate MLcps using the mean test score of all the metrics available in the given GridSearch object and return an updated GridSearch object. Returned GridSearch object contains mean_test_MLcps and rank_test_MLcps arrays, which can be used to rank the models similar to any other metric."
   ]
  },
  {
   "cell_type": "code",
   "execution_count": 7,
   "id": "869a6d26",
   "metadata": {},
   "outputs": [
    {
     "data": {
      "text/html": [
       "<style>#sk-container-id-1 {color: black;background-color: white;}#sk-container-id-1 pre{padding: 0;}#sk-container-id-1 div.sk-toggleable {background-color: white;}#sk-container-id-1 label.sk-toggleable__label {cursor: pointer;display: block;width: 100%;margin-bottom: 0;padding: 0.3em;box-sizing: border-box;text-align: center;}#sk-container-id-1 label.sk-toggleable__label-arrow:before {content: \"▸\";float: left;margin-right: 0.25em;color: #696969;}#sk-container-id-1 label.sk-toggleable__label-arrow:hover:before {color: black;}#sk-container-id-1 div.sk-estimator:hover label.sk-toggleable__label-arrow:before {color: black;}#sk-container-id-1 div.sk-toggleable__content {max-height: 0;max-width: 0;overflow: hidden;text-align: left;background-color: #f0f8ff;}#sk-container-id-1 div.sk-toggleable__content pre {margin: 0.2em;color: black;border-radius: 0.25em;background-color: #f0f8ff;}#sk-container-id-1 input.sk-toggleable__control:checked~div.sk-toggleable__content {max-height: 200px;max-width: 100%;overflow: auto;}#sk-container-id-1 input.sk-toggleable__control:checked~label.sk-toggleable__label-arrow:before {content: \"▾\";}#sk-container-id-1 div.sk-estimator input.sk-toggleable__control:checked~label.sk-toggleable__label {background-color: #d4ebff;}#sk-container-id-1 div.sk-label input.sk-toggleable__control:checked~label.sk-toggleable__label {background-color: #d4ebff;}#sk-container-id-1 input.sk-hidden--visually {border: 0;clip: rect(1px 1px 1px 1px);clip: rect(1px, 1px, 1px, 1px);height: 1px;margin: -1px;overflow: hidden;padding: 0;position: absolute;width: 1px;}#sk-container-id-1 div.sk-estimator {font-family: monospace;background-color: #f0f8ff;border: 1px dotted black;border-radius: 0.25em;box-sizing: border-box;margin-bottom: 0.5em;}#sk-container-id-1 div.sk-estimator:hover {background-color: #d4ebff;}#sk-container-id-1 div.sk-parallel-item::after {content: \"\";width: 100%;border-bottom: 1px solid gray;flex-grow: 1;}#sk-container-id-1 div.sk-label:hover label.sk-toggleable__label {background-color: #d4ebff;}#sk-container-id-1 div.sk-serial::before {content: \"\";position: absolute;border-left: 1px solid gray;box-sizing: border-box;top: 0;bottom: 0;left: 50%;z-index: 0;}#sk-container-id-1 div.sk-serial {display: flex;flex-direction: column;align-items: center;background-color: white;padding-right: 0.2em;padding-left: 0.2em;position: relative;}#sk-container-id-1 div.sk-item {position: relative;z-index: 1;}#sk-container-id-1 div.sk-parallel {display: flex;align-items: stretch;justify-content: center;background-color: white;position: relative;}#sk-container-id-1 div.sk-item::before, #sk-container-id-1 div.sk-parallel-item::before {content: \"\";position: absolute;border-left: 1px solid gray;box-sizing: border-box;top: 0;bottom: 0;left: 50%;z-index: -1;}#sk-container-id-1 div.sk-parallel-item {display: flex;flex-direction: column;z-index: 1;position: relative;background-color: white;}#sk-container-id-1 div.sk-parallel-item:first-child::after {align-self: flex-end;width: 50%;}#sk-container-id-1 div.sk-parallel-item:last-child::after {align-self: flex-start;width: 50%;}#sk-container-id-1 div.sk-parallel-item:only-child::after {width: 0;}#sk-container-id-1 div.sk-dashed-wrapped {border: 1px dashed gray;margin: 0 0.4em 0.5em 0.4em;box-sizing: border-box;padding-bottom: 0.4em;background-color: white;}#sk-container-id-1 div.sk-label label {font-family: monospace;font-weight: bold;display: inline-block;line-height: 1.2em;}#sk-container-id-1 div.sk-label-container {text-align: center;}#sk-container-id-1 div.sk-container {/* jupyter's `normalize.less` sets `[hidden] { display: none; }` but bootstrap.min.css set `[hidden] { display: none !important; }` so we also need the `!important` here to be able to override the default hidden behavior on the sphinx rendered scikit-learn.org. See: https://github.com/scikit-learn/scikit-learn/issues/21755 */display: inline-block !important;position: relative;}#sk-container-id-1 div.sk-text-repr-fallback {display: none;}</style><div id=\"sk-container-id-1\" class=\"sk-top-container\"><div class=\"sk-text-repr-fallback\"><pre>GridSearchCV(cv=RepeatedStratifiedKFold(n_repeats=10, n_splits=3, random_state=10),\n",
       "             estimator=Pipeline(steps=[(&#x27;combineSampling&#x27;,\n",
       "                                        SMOTETomek(random_state=10)),\n",
       "                                       (&#x27;scaler&#x27;, StandardScaler()),\n",
       "                                       (&#x27;feature_sel&#x27;, SelectKBest()),\n",
       "                                       (&#x27;m&#x27;, LinearSVC(random_state=10))]),\n",
       "             n_jobs=-1, param_grid={&#x27;feature_sel__k&#x27;: [200, 400, 1000]},\n",
       "             refit=&#x27;average_precision&#x27;, return_train_score=True,\n",
       "             scoring=[&#x27;accuracy&#x27;, &#x27;balanced_accuracy&#x27;, &#x27;f1&#x27;, &#x27;recall&#x27;,\n",
       "                      &#x27;precision&#x27;, &#x27;average_precision&#x27;, &#x27;roc_auc&#x27;])</pre><b>In a Jupyter environment, please rerun this cell to show the HTML representation or trust the notebook. <br />On GitHub, the HTML representation is unable to render, please try loading this page with nbviewer.org.</b></div><div class=\"sk-container\" hidden><div class=\"sk-item sk-dashed-wrapped\"><div class=\"sk-label-container\"><div class=\"sk-label sk-toggleable\"><input class=\"sk-toggleable__control sk-hidden--visually\" id=\"sk-estimator-id-1\" type=\"checkbox\" ><label for=\"sk-estimator-id-1\" class=\"sk-toggleable__label sk-toggleable__label-arrow\">GridSearchCV</label><div class=\"sk-toggleable__content\"><pre>GridSearchCV(cv=RepeatedStratifiedKFold(n_repeats=10, n_splits=3, random_state=10),\n",
       "             estimator=Pipeline(steps=[(&#x27;combineSampling&#x27;,\n",
       "                                        SMOTETomek(random_state=10)),\n",
       "                                       (&#x27;scaler&#x27;, StandardScaler()),\n",
       "                                       (&#x27;feature_sel&#x27;, SelectKBest()),\n",
       "                                       (&#x27;m&#x27;, LinearSVC(random_state=10))]),\n",
       "             n_jobs=-1, param_grid={&#x27;feature_sel__k&#x27;: [200, 400, 1000]},\n",
       "             refit=&#x27;average_precision&#x27;, return_train_score=True,\n",
       "             scoring=[&#x27;accuracy&#x27;, &#x27;balanced_accuracy&#x27;, &#x27;f1&#x27;, &#x27;recall&#x27;,\n",
       "                      &#x27;precision&#x27;, &#x27;average_precision&#x27;, &#x27;roc_auc&#x27;])</pre></div></div></div><div class=\"sk-parallel\"><div class=\"sk-parallel-item\"><div class=\"sk-item\"><div class=\"sk-label-container\"><div class=\"sk-label sk-toggleable\"><input class=\"sk-toggleable__control sk-hidden--visually\" id=\"sk-estimator-id-2\" type=\"checkbox\" ><label for=\"sk-estimator-id-2\" class=\"sk-toggleable__label sk-toggleable__label-arrow\">estimator: Pipeline</label><div class=\"sk-toggleable__content\"><pre>Pipeline(steps=[(&#x27;combineSampling&#x27;, SMOTETomek(random_state=10)),\n",
       "                (&#x27;scaler&#x27;, StandardScaler()), (&#x27;feature_sel&#x27;, SelectKBest()),\n",
       "                (&#x27;m&#x27;, LinearSVC(random_state=10))])</pre></div></div></div><div class=\"sk-serial\"><div class=\"sk-item\"><div class=\"sk-serial\"><div class=\"sk-item\"><div class=\"sk-estimator sk-toggleable\"><input class=\"sk-toggleable__control sk-hidden--visually\" id=\"sk-estimator-id-3\" type=\"checkbox\" ><label for=\"sk-estimator-id-3\" class=\"sk-toggleable__label sk-toggleable__label-arrow\">SMOTETomek</label><div class=\"sk-toggleable__content\"><pre>SMOTETomek(random_state=10)</pre></div></div></div><div class=\"sk-item\"><div class=\"sk-estimator sk-toggleable\"><input class=\"sk-toggleable__control sk-hidden--visually\" id=\"sk-estimator-id-4\" type=\"checkbox\" ><label for=\"sk-estimator-id-4\" class=\"sk-toggleable__label sk-toggleable__label-arrow\">StandardScaler</label><div class=\"sk-toggleable__content\"><pre>StandardScaler()</pre></div></div></div><div class=\"sk-item\"><div class=\"sk-estimator sk-toggleable\"><input class=\"sk-toggleable__control sk-hidden--visually\" id=\"sk-estimator-id-5\" type=\"checkbox\" ><label for=\"sk-estimator-id-5\" class=\"sk-toggleable__label sk-toggleable__label-arrow\">SelectKBest</label><div class=\"sk-toggleable__content\"><pre>SelectKBest()</pre></div></div></div><div class=\"sk-item\"><div class=\"sk-estimator sk-toggleable\"><input class=\"sk-toggleable__control sk-hidden--visually\" id=\"sk-estimator-id-6\" type=\"checkbox\" ><label for=\"sk-estimator-id-6\" class=\"sk-toggleable__label sk-toggleable__label-arrow\">LinearSVC</label><div class=\"sk-toggleable__content\"><pre>LinearSVC(random_state=10)</pre></div></div></div></div></div></div></div></div></div></div></div></div>"
      ],
      "text/plain": [
       "GridSearchCV(cv=RepeatedStratifiedKFold(n_repeats=10, n_splits=3, random_state=10),\n",
       "             estimator=Pipeline(steps=[('combineSampling',\n",
       "                                        SMOTETomek(random_state=10)),\n",
       "                                       ('scaler', StandardScaler()),\n",
       "                                       ('feature_sel', SelectKBest()),\n",
       "                                       ('m', LinearSVC(random_state=10))]),\n",
       "             n_jobs=-1, param_grid={'feature_sel__k': [200, 400, 1000]},\n",
       "             refit='average_precision', return_train_score=True,\n",
       "             scoring=['accuracy', 'balanced_accuracy', 'f1', 'recall',\n",
       "                      'precision', 'average_precision', 'roc_auc'])"
      ]
     },
     "execution_count": 7,
     "metadata": {},
     "output_type": "execute_result"
    }
   ],
   "source": [
    "#read GridSearch object or load it from package\n",
    "gsObj=getCPS.sample_GridSearch_Object()\n",
    "\n",
    "#calculate Machine Learning cumulative performance score\n",
    "gsObj_updated=getCPS.calculate(gsObj)\n",
    "gsObj_updated\n"
   ]
  },
  {
   "cell_type": "code",
   "execution_count": 8,
   "id": "787e92cb",
   "metadata": {},
   "outputs": [
    {
     "data": {
      "text/plain": [
       "array([2.70382103, 2.70281822, 2.69759673])"
      ]
     },
     "execution_count": 8,
     "metadata": {},
     "output_type": "execute_result"
    }
   ],
   "source": [
    "#access MLcps\n",
    "gsObj_updated.cv_results_[\"mean_test_MLcps\"]"
   ]
  },
  {
   "cell_type": "code",
   "execution_count": 9,
   "id": "87b8b8b1",
   "metadata": {},
   "outputs": [
    {
     "data": {
      "text/plain": [
       "array([1, 2, 3])"
      ]
     },
     "execution_count": 9,
     "metadata": {},
     "output_type": "execute_result"
    }
   ],
   "source": [
    "#access rank array based on MLcps\n",
    "gsObj_updated.cv_results_[\"rank_test_MLcps\"]"
   ]
  },
  {
   "cell_type": "markdown",
   "id": "f4fc3e7b",
   "metadata": {},
   "source": [
    "## Weighted MLcps\n",
    "##### Certain metrics are more significant than others in some cases. As an example, if the dataset is imbalanced, a high F1 score might be preferred to higher accuracy. A user can provide weights for metrics of interest while calculating MLcps in such a scenario. Weights should be a dictionary object where keys are metric names and values are corresponding weights. It can be passed as a parameter in getCPS.calculate() function."
   ]
  },
  {
   "cell_type": "code",
   "execution_count": 10,
   "id": "098754db",
   "metadata": {},
   "outputs": [
    {
     "data": {
      "text/html": [
       "<div>\n",
       "<style scoped>\n",
       "    .dataframe tbody tr th:only-of-type {\n",
       "        vertical-align: middle;\n",
       "    }\n",
       "\n",
       "    .dataframe tbody tr th {\n",
       "        vertical-align: top;\n",
       "    }\n",
       "\n",
       "    .dataframe thead th {\n",
       "        text-align: right;\n",
       "    }\n",
       "</style>\n",
       "<table border=\"1\" class=\"dataframe\">\n",
       "  <thead>\n",
       "    <tr style=\"text-align: right;\">\n",
       "      <th></th>\n",
       "      <th>Algorithms</th>\n",
       "      <th>Score</th>\n",
       "    </tr>\n",
       "  </thead>\n",
       "  <tbody>\n",
       "    <tr>\n",
       "      <th>1</th>\n",
       "      <td>Dummy</td>\n",
       "      <td>1.168150</td>\n",
       "    </tr>\n",
       "    <tr>\n",
       "      <th>2</th>\n",
       "      <td>GP</td>\n",
       "      <td>2.477055</td>\n",
       "    </tr>\n",
       "    <tr>\n",
       "      <th>3</th>\n",
       "      <td>LDA</td>\n",
       "      <td>2.507680</td>\n",
       "    </tr>\n",
       "    <tr>\n",
       "      <th>4</th>\n",
       "      <td>BC</td>\n",
       "      <td>2.651351</td>\n",
       "    </tr>\n",
       "    <tr>\n",
       "      <th>5</th>\n",
       "      <td>RF</td>\n",
       "      <td>2.672004</td>\n",
       "    </tr>\n",
       "    <tr>\n",
       "      <th>6</th>\n",
       "      <td>ETC</td>\n",
       "      <td>2.677232</td>\n",
       "    </tr>\n",
       "    <tr>\n",
       "      <th>7</th>\n",
       "      <td>SVM</td>\n",
       "      <td>2.703981</td>\n",
       "    </tr>\n",
       "    <tr>\n",
       "      <th>8</th>\n",
       "      <td>LR</td>\n",
       "      <td>2.714080</td>\n",
       "    </tr>\n",
       "  </tbody>\n",
       "</table>\n",
       "</div>"
      ],
      "text/plain": [
       "  Algorithms     Score\n",
       "1      Dummy  1.168150\n",
       "2         GP  2.477055\n",
       "3        LDA  2.507680\n",
       "4         BC  2.651351\n",
       "5         RF  2.672004\n",
       "6        ETC  2.677232\n",
       "7        SVM  2.703981\n",
       "8         LR  2.714080"
      ]
     },
     "execution_count": 10,
     "metadata": {},
     "output_type": "execute_result"
    }
   ],
   "source": [
    "#read input data (a dataframe) or load an example data\n",
    "metrics=getCPS.sample_metrics()\n",
    "\n",
    "#define weights\n",
    "weights={\"Accuracy\":0.75,\"F1\": 1.25}\n",
    "\n",
    "#calculate Machine Learning cumulative performance score\n",
    "cpsScore=getCPS.calculate(metrics,weights)\n",
    "cpsScore"
   ]
  },
  {
   "cell_type": "code",
   "execution_count": 11,
   "id": "5d071e12",
   "metadata": {},
   "outputs": [
    {
     "data": {
      "text/plain": [
       "array([2.70404499, 2.70306564, 2.69792164])"
      ]
     },
     "execution_count": 11,
     "metadata": {},
     "output_type": "execute_result"
    }
   ],
   "source": [
    "gsObj=getCPS.sample_GridSearch_Object()\n",
    "\n",
    "#define weights\n",
    "weights={\"accuracy\":0.75,\"f1\": 1.25}\n",
    "\n",
    "#calculate Machine Learning cumulative performance score\n",
    "gsObj_updated=getCPS.calculate(gsObj,weights)\n",
    "gsObj_updated.cv_results_[\"mean_test_MLcps\"]"
   ]
  }
 ],
 "metadata": {
  "kernelspec": {
   "display_name": "Python 3 (ipykernel)",
   "language": "python",
   "name": "python3"
  },
  "language_info": {
   "codemirror_mode": {
    "name": "ipython",
    "version": 3
   },
   "file_extension": ".py",
   "mimetype": "text/x-python",
   "name": "python",
   "nbconvert_exporter": "python",
   "pygments_lexer": "ipython3",
   "version": "3.10.4"
  }
 },
 "nbformat": 4,
 "nbformat_minor": 5
}
