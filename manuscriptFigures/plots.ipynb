{
 "cells": [
  {
   "cell_type": "markdown",
   "id": "81defec2",
   "metadata": {},
   "source": [
    "## Import packages"
   ]
  },
  {
   "cell_type": "code",
   "execution_count": null,
   "id": "c7c40321",
   "metadata": {},
   "outputs": [],
   "source": [
    "# Import necessary packages for data manipulation and visualization.\n",
    "import pandas as pd\n",
    "import numpy as np\n",
    "import pickle, os, sys  \n",
    "import plotly.express as px\n",
    "import plotly.graph_objects as go\n",
    "from plotly.offline import plot\n",
    "from plotly.subplots import make_subplots\n",
    "import seaborn as sns\n",
    "\n",
    "# Import 'MLcps'package\n",
    "from MLcps import getCPS\n",
    "calculate = getCPS.calculate  # Specify the specific function to use from the module."
   ]
  },
  {
   "cell_type": "markdown",
   "id": "1ad824c3",
   "metadata": {},
   "source": [
    "## Custom Functions for Generating Plots"
   ]
  },
  {
   "cell_type": "code",
   "execution_count": null,
   "id": "96ea66bd",
   "metadata": {},
   "outputs": [],
   "source": [
    "########################\n",
    "## Function to convert a \n",
    "## dictionary to a pandas DF.\n",
    "########################\n",
    "\n",
    "def dictTOdf(results):\n",
    "    \"\"\"\n",
    "    Converts a dictionary to a pandas DataFrame for easier analysis.\n",
    "\n",
    "    Parameters:\n",
    "    results (dict): Dictionary containing the results data.\n",
    "\n",
    "    Returns:\n",
    "    df (DataFrame): Converted DataFrame with specific columns.\n",
    "    \"\"\"\n",
    "        \n",
    "    df = pd.DataFrame({'Accuracy': results[\"Acc\"],\n",
    "                   'Balanced Acc': results[\"Bal_acc\"],\n",
    "                    'F1': results[\"F1\"],\n",
    "                    'Recall': results[\"recall\"],\n",
    "                    'Precision': results[\"precision\"],\n",
    "                   'Avg precision': results[\"average_precision\"],\n",
    "                    'roc_auc': results[\"roc_auc\"]}, index=results[\"model\"])\n",
    "\n",
    "    return(df.sort_values('F1')) # Return the sorted DataFrame based on the 'F1' column.\n",
    "\n",
    "    \n",
    "########################\n",
    "## Function to generate \n",
    "## figures 1A, 1B, 2A, 2B, S4A\n",
    "########################\n",
    "\n",
    "def plotSTD(results_whole,fileName):\n",
    "    \"\"\"\n",
    "    Generates a plot showing standard deviation based on the provided results.\n",
    "\n",
    "    Parameters:\n",
    "    results_whole (dict): Dictionary containing the entire results data.\n",
    "    fileName (str): Name of the file to save the plot.\n",
    "\n",
    "    Returns:\n",
    "    Figure\n",
    "    \"\"\"\n",
    "        \n",
    "    # calculate MLcps\n",
    "    results_whole_df=dictTOdf(results_whole)\n",
    "    cpsScore=calculate(results_whole_df)\n",
    "    \n",
    "    df=results_whole_df\n",
    "    x_data = list(df.index)\n",
    "    y_data = [round(num,3) for num in list(df.mean(axis=1))]\n",
    "    mlcps_score = [round(num,4) for num in list(cpsScore['Score'])]\n",
    "    err_y_data=list(df.std(axis=1))\n",
    "\n",
    "\n",
    "    #===================\n",
    "    ##   sort for SD\n",
    "    #===================\n",
    "    err_y_data, y_data, x_data,mlcps_score=[list(v) for v in zip(*sorted(zip(err_y_data, y_data, x_data,mlcps_score)))]\n",
    "\n",
    "\n",
    "    fig = make_subplots(rows=1, cols=1,\n",
    "                        x_title='<b>Models</b>',specs=[[{\"secondary_y\": True}]])\n",
    "\n",
    "    for i, bar in enumerate(err_y_data):\n",
    "        fig.add_trace(go.Scatter(\n",
    "                        x=[x_data[i]],\n",
    "                        y=[y_data[i]],\n",
    "                       #text=err_y_data,\n",
    "                        mode='markers+text',\n",
    "                        textposition='top center',\n",
    "                        error_y=dict(\n",
    "                            type='data',\n",
    "                            color = \"black\",\n",
    "                            array=[bar],\n",
    "                            visible=True),\n",
    "                        marker=dict(color='rgba(0,0,0,0)', size=8),\n",
    "                        showlegend=False,\n",
    "                    ),secondary_y=False, row=1, col=1)\n",
    "\n",
    "\n",
    "\n",
    "    fig.add_trace(go.Scatter(x=x_data, y=mlcps_score,\n",
    "                                text=np.round(mlcps_score,\n",
    "                                              3),\n",
    "                                mode='markers+text',\n",
    "                                textposition='top right',\n",
    "                                name=\"MLcps\",\n",
    "                                marker=dict(color=\"#C82F02\", size=6),\n",
    "                ),secondary_y=True)\n",
    "    fig.update_yaxes(title_text=\"<b>Metrics Score (Standard Deviation)</b>\", secondary_y=False)\n",
    "    fig.update_yaxes(title_text=\"<b>MLcps</b>\", secondary_y=True)\n",
    "    fig.layout.template=\"plotly_white\"\n",
    "    #fig.write_image(fileName+\".png\",scale=5,width=1000)\n",
    "    return(fig) \n",
    "    \n",
    "    \n",
    "########################\n",
    "## Function to generate \n",
    "## figures 1C, 1D\n",
    "########################\n",
    "def plotCPS_bar_train(results_whole,fileName):\n",
    "    \"\"\"\n",
    "    Generates bar plots for the MLcps based on training data.\n",
    "\n",
    "    Parameters:\n",
    "    results_whole (dict): Dictionary containing the entire results data.\n",
    "    fileName (str): Name of the file to save the plot.\n",
    "\n",
    "    Returns:\n",
    "    Figure\n",
    "    \"\"\"\n",
    "\n",
    "    # calcualte MLcps for train and merge them in a single df\n",
    "    cpsScore_train=calculate(dictTOdf(results_whole))\n",
    "    models = cpsScore_train['Algorithms']\n",
    "    train_scores = cpsScore_train['Score']\n",
    "    \n",
    "    # Transpose the data for horizontal bars\n",
    "    models_transposed = [ \"Training\"]\n",
    "    scores_transposed = [ train_scores]\n",
    "    \n",
    "    # Define pastel colors\n",
    "    pastel_colors = [ 'lightblue']\n",
    "    \n",
    "    # Create a horizontal bar plot to visualize training and test scores for each model\n",
    "    fig = go.Figure()\n",
    "    \n",
    "    for i, model in enumerate(models_transposed):\n",
    "        # Sort the models based on scores and calculate rankings\n",
    "        scores = scores_transposed[i]\n",
    "        \n",
    "        def custom_sort_key(index):\n",
    "           return (scores[index], index)\n",
    "       \n",
    "        sorted_indices = sorted(range(len(scores)), key=custom_sort_key, reverse=True)\n",
    "        rankings = [sorted_indices.index(j) + 1 for j in range(len(scores))]\n",
    "    \n",
    "        # Format the scores with up to three decimal places\n",
    "        formatted_scores = [f\"{score:.6f}\" for score in scores]\n",
    "    \n",
    "        # Create custom HTML labels with colored rank text\n",
    "        labels = [f\"{formatted_scores[j]}  ( Rank  <b><span  ';'>{rank}</span> </b>)\" for j, rank in enumerate(rankings)]\n",
    "\n",
    "        # Add bar trace\n",
    "        bar_trace = go.Bar(\n",
    "            y=models,\n",
    "            x=scores_transposed[i],\n",
    "            text=labels,\n",
    "            legendgroup=model,\n",
    "            orientation='h',\n",
    "            name=model,\n",
    "            textposition=\"auto\",\n",
    "            marker=dict(color=pastel_colors[i],line=dict(width=0.8, color='black'))\n",
    "        )\n",
    "        fig.add_trace(bar_trace)\n",
    "    \n",
    "    # Customize the layout\n",
    "    fig.update_layout(\n",
    "        title=None,\n",
    "        xaxis_title=\"<b>MLcps</b>\",\n",
    "        yaxis_title=\"<b>Models</b>\",\n",
    "        barmode='group' ,\n",
    "        template=\"plotly_white\",\n",
    "        legend_traceorder=\"reversed\",\n",
    "        legend=dict(x=0.95,  y=1),\n",
    "        \n",
    "        width=600,height=900,\n",
    "        yaxis=dict(title_standoff=0),\n",
    "        font=dict(size=16)\n",
    "    )\n",
    "    fig.update_layout(yaxis = dict(tickfont = dict(size=18),title_font=dict(size=18)))\n",
    "    fig.update_layout(xaxis = dict(tickfont = dict(size=18),title_font=dict(size=18)))\n",
    "    #fig.write_image(fileName+\".png\",scale=5)\n",
    "    return(fig) \n",
    "    \n",
    "\n",
    "\n",
    "########################\n",
    "## Function to generate \n",
    "## figures 2C, 2D, S4B\n",
    "########################\n",
    "def plotCPS_bar_test_train(results_whole,results_test,fileName):\n",
    "    \n",
    "    \"\"\"\n",
    "    Generates bar plots for the MLcps based on both test and training data.\n",
    "\n",
    "    Parameters:\n",
    "    results_whole (dict): Dictionary containing the entire results data for training.\n",
    "    results_test (dict): Dictionary containing the entire results data for testing.\n",
    "    fileName (str): Name of the file to save the plot.\n",
    "\n",
    "    Returns:\n",
    "    Figure\n",
    "    \"\"\"\n",
    "        \n",
    "    # calcualte MLcps for train and test results \n",
    "    # and merge them in a single df\n",
    "    cpsScore_train=calculate(dictTOdf(results_whole))\n",
    "    cpsScore_test=calculate(dictTOdf(results_test))\n",
    "    merged_df = cpsScore_train.merge(cpsScore_test, on='Algorithms', how='inner')  # You can use 'how' to specify the type of join\n",
    "     \n",
    "    # Sample data \n",
    "    models = merged_df['Algorithms']\n",
    "    train_scores = merged_df['Score_x']\n",
    "    test_scores = merged_df['Score_y']\n",
    "    \n",
    "    # Transpose the data for horizontal bars\n",
    "    models_transposed = [ \"Test\",\"Training\"]\n",
    "    scores_transposed = [ test_scores,train_scores]\n",
    "    \n",
    "    # Define colors\n",
    "    pastel_colors = ['lightcoral', 'lightblue']\n",
    "    \n",
    "    # Create a horizontal bar plot to visualize training and test scores for each model\n",
    "    fig = go.Figure()\n",
    "    \n",
    "    for i, model in enumerate(models_transposed):\n",
    "        # Sort the models based on scores and calculate rankings\n",
    "        scores = scores_transposed[i]\n",
    "        \n",
    "        def custom_sort_key(index):\n",
    "           return (scores[index], index)\n",
    "       \n",
    "        sorted_indices = sorted(range(len(scores)), key=lambda x: scores[x], reverse=True)\n",
    "        rankings = [sorted_indices.index(j) + 1 for j in range(len(scores))]\n",
    "    \n",
    "        # Format the scores with up to three decimal places\n",
    "        formatted_scores = [f\"{score:.6f}\" for score in scores]\n",
    "    \n",
    "        # Create custom HTML labels with colored rank text\n",
    "        labels = [f\"{formatted_scores[j]}  ( Rank  <b><span  ';'>{rank}</span> </b>)\" for j, rank in enumerate(rankings)]\n",
    "    \n",
    "        # Add bar trace\n",
    "        bar_trace = go.Bar(\n",
    "            y=models,\n",
    "            x=scores_transposed[i],\n",
    "            text=labels,\n",
    "            legendgroup=model,\n",
    "            textposition='auto',\n",
    "            orientation='h',\n",
    "            name=model,\n",
    "            marker=dict(color=pastel_colors[i],line=dict(width=0.8, color='black'))\n",
    "        )\n",
    "        fig.add_trace(bar_trace)\n",
    "    \n",
    "    \n",
    "    # Customize the layout\n",
    "    fig.update_layout(\n",
    "        title=None,\n",
    "        xaxis_title=\"<b>MLcps</b>\",\n",
    "        yaxis_title=\"<b>Models</b>\",\n",
    "        barmode='group' ,\n",
    "        template=\"plotly_white\",\n",
    "        legend_traceorder=\"reversed\",\n",
    "        legend=dict(x=0.95,  y=1),\n",
    "        \n",
    "        width=600,height=900,\n",
    "        yaxis=dict(title_standoff=0),\n",
    "        font=dict(size=16)\n",
    "    )\n",
    "    fig.update_layout(yaxis = dict(tickfont = dict(size=18),title_font=dict(size=18)))\n",
    "    fig.update_layout(xaxis = dict(tickfont = dict(size=18),title_font=dict(size=18)))\n",
    "    #fig.write_image(fileName+\".png\",scale=5)\n",
    "    return(fig) \n",
    "    \n",
    "\n",
    "########################\n",
    "## Function to generate \n",
    "## figure S4A\n",
    "########################\n",
    "\n",
    "def bar_new(results_whole,results_test,fileName):\n",
    "    \n",
    "    \"\"\"\n",
    "    Generates bar plot for the body signal dataset.\n",
    "\n",
    "    Parameters:\n",
    "    results_whole (dict): Dictionary containing the entire results data.\n",
    "    results_test (dict): Dictionary containing the test results data.\n",
    "    fileName (str): Name of the file to save the plot.\n",
    "\n",
    "    Returns:\n",
    "    Figure\n",
    "    \"\"\"\n",
    "        \n",
    "    results_whole.index = results_whole.index.str.split('-').str[0]\n",
    "    results_test.index = results_test.index.str.split('-').str[0]\n",
    "    \n",
    "    # Line plot\n",
    "    cpsScore_train=calculate(results_whole)\n",
    "    cpsScore_test=calculate(results_test)\n",
    "    merged_df = cpsScore_train.merge(cpsScore_test, on='Algorithms', how='inner')  # You can use 'how' to specify the type of join\n",
    "    \n",
    "    \n",
    "    # Sample data \n",
    "    models = merged_df['Algorithms']\n",
    "    train_scores = merged_df['Score_x']\n",
    "    test_scores = merged_df['Score_y']\n",
    "    \n",
    "    # Transpose the data for horizontal bars\n",
    "    models_transposed = [ \"Test\",\"Training\"]\n",
    "    scores_transposed = [ test_scores,train_scores]\n",
    "    \n",
    "    \n",
    "    # Define pastel colors\n",
    "    pastel_colors = ['lightcoral', 'lightblue']\n",
    "    \n",
    "    # Create a horizontal bar plot to visualize training and test scores for each model\n",
    "    fig = go.Figure()\n",
    "    \n",
    "    for i, model in enumerate(models_transposed):\n",
    "        # Sort the models based on scores and calculate rankings\n",
    "        scores = scores_transposed[i]\n",
    "        \n",
    "        def custom_sort_key(index):\n",
    "           return (scores[index], index)\n",
    "       \n",
    "        #sorted_indices = sorted(range(len(scores)), key=custom_sort_key, reverse=True)\n",
    "        sorted_indices = sorted(range(len(scores)), key=lambda x: scores[x], reverse=True)\n",
    "        rankings = [sorted_indices.index(j) + 1 for j in range(len(scores))]\n",
    "    \n",
    "        # Format the scores with up to three decimal places\n",
    "        formatted_scores = [f\"{score:.6f}\" for score in scores]\n",
    "    \n",
    "        # Create custom HTML labels with colored rank text\n",
    "        labels = [f\"{formatted_scores[j]}  ( Rank  <b><span  ';'>{rank}</span> </b>)\" for j, rank in enumerate(rankings)]\n",
    "    \n",
    "        # Add bar trace\n",
    "        bar_trace = go.Bar(\n",
    "            y=models,\n",
    "            x=scores_transposed[i],\n",
    "            text=labels,\n",
    "            legendgroup=model,\n",
    "            textposition='auto',\n",
    "            orientation='h',\n",
    "            name=model,\n",
    "            marker=dict(color=pastel_colors[i],line=dict(width=0.8, color='black'))\n",
    "        )\n",
    "        fig.add_trace(bar_trace)\n",
    "\n",
    "    # Customize the layout\n",
    "    fig.update_layout(\n",
    "        title=None,\n",
    "        xaxis_title=\"<b>MLcps</b>\",\n",
    "        yaxis_title=\"<b>Models</b>\",\n",
    "        barmode='group' ,\n",
    "        template=\"plotly_white\",\n",
    "        legend_traceorder=\"reversed\",\n",
    "        legend=dict(x=0.95,  y=1),\n",
    "        \n",
    "        width=700,height=900,\n",
    "        yaxis=dict(title_standoff=0),\n",
    "        font=dict(size=16)\n",
    "    )\n",
    "    fig.update_layout(yaxis = dict(tickfont = dict(size=18),title_font=dict(size=18)))\n",
    "    fig.update_layout(xaxis = dict(tickfont = dict(size=18),title_font=dict(size=18)))\n",
    "    #fig.write_image(fileName+\".png\",scale=5)\n",
    "    return(fig) \n",
    "    \n",
    "\n",
    "########################\n",
    "## Function to generate \n",
    "## figure S4B\n",
    "########################\n",
    "def stdPlotNew(results_whole_df,fileName):\n",
    "    \n",
    "    \"\"\"\n",
    "    Generates a standard deviation plot for the body signal dataset.\n",
    "\n",
    "    Parameters:\n",
    "    results_whole_df (DataFrame): DataFrame containing the entire results data.\n",
    "    fileName (str): Name of the file to save the plot.\n",
    "\n",
    "    Returns:\n",
    "    Figure\n",
    "    \"\"\"\n",
    "        \n",
    "    results_whole_df.index = results_whole_df.index.str.split('-').str[0]\n",
    "    results_whole_df=results_whole_df.sort_values('f1')\n",
    "    \n",
    "    df=results_whole_df\n",
    "    x_data = list(df.index)\n",
    "    y_data = [round(num,3) for num in list(df.mean(axis=1))]\n",
    "    err_y_data=list(df.std(axis=1))\n",
    "    \n",
    "    \n",
    "    cpsScore=calculate(results_whole_df)\n",
    "    mlcps_score = []\n",
    "    for m in x_data:\n",
    "        num = cpsScore[cpsScore['Algorithms'] == m]['Score'].values[0]\n",
    "        mlcps_score.append(round(num,4))\n",
    "    \n",
    "    #===============\n",
    "    ##  sort for SD\n",
    "    #===============\n",
    "    err_y_data, y_data, x_data,mlcps_score=[list(v) for v in zip(*sorted(zip(err_y_data, y_data, x_data,mlcps_score), key=lambda x: x[0], reverse=True))]\n",
    "    \n",
    "    \n",
    "    fig = make_subplots(rows=1, cols=1,\n",
    "                        x_title='<b>Models</b>',specs=[[{\"secondary_y\": True}]])\n",
    "    \n",
    "    for i, bar in enumerate(err_y_data):\n",
    "        fig.add_trace(go.Scatter(\n",
    "                        x=[x_data[i]],\n",
    "                        y=[y_data[i]],\n",
    "                       #text=y_data[i],\n",
    "                        mode='markers+text',\n",
    "                        textposition='top center',\n",
    "                        error_y=dict(\n",
    "                            type='data',\n",
    "                            color = \"black\",\n",
    "                            array=[bar],\n",
    "                            visible=True),\n",
    "                        marker=dict(color='rgba(0,0,0,0)', size=8),\n",
    "                        showlegend=False,\n",
    "                    ),secondary_y=False, row=1, col=1)\n",
    "    \n",
    "    \n",
    "    \n",
    "    fig.add_trace(go.Scatter(x=x_data, y=mlcps_score,\n",
    "                                text=np.round(mlcps_score,\n",
    "                                              3),\n",
    "                                mode='markers+text',\n",
    "                                textposition='top right',\n",
    "                                name=\"MLcps\",\n",
    "                                marker=dict(color=\"#C82F02\", size=6),\n",
    "                ),secondary_y=True)\n",
    "    fig.update_yaxes(title_text=\"<b>Metrics Score (Standard Deviation)</b>\", secondary_y=False)\n",
    "    fig.update_yaxes(title_text=\"<b>MLcps</b>\", secondary_y=True)\n",
    "    fig.layout.template=\"plotly_white\"\n",
    "    #fig.write_image(fileName+\".png\",scale=5,width=1100)\n",
    "    return(fig)    \n",
    "    "
   ]
  },
  {
   "cell_type": "markdown",
   "id": "54dbe824",
   "metadata": {},
   "source": [
    "## Results Folder"
   ]
  },
  {
   "cell_type": "code",
   "execution_count": null,
   "id": "b7d2331e",
   "metadata": {},
   "outputs": [],
   "source": [
    "# Specify the path to the results folder downloaded from GitHub. \n",
    "#resultsFolder='/path/to/results/folder'\n",
    "resultsFolder='/Users/akshay/Desktop/prof_katia_plots/pain-paper/MLcps-paper/MLcps/generateManuPlots/results'"
   ]
  },
  {
   "cell_type": "markdown",
   "id": "6678e0a7",
   "metadata": {},
   "source": [
    "## 1. CLL Dataset"
   ]
  },
  {
   "cell_type": "markdown",
   "id": "ab7d98d0",
   "metadata": {},
   "source": [
    "### Setup"
   ]
  },
  {
   "cell_type": "code",
   "execution_count": null,
   "id": "45e8f15b",
   "metadata": {},
   "outputs": [],
   "source": [
    "# change directory to the CLL results folder.\n",
    "# All the plots will be saved here.\n",
    "os.chdir(os.path.join(resultsFolder,\"CLL\"))\n",
    "\n",
    "# load dataset\n",
    "results_whole = pickle.load(open(\"results_whole.pickle\",'rb'))"
   ]
  },
  {
   "cell_type": "markdown",
   "id": "6294a92a",
   "metadata": {},
   "source": [
    "### Figure 1A"
   ]
  },
  {
   "cell_type": "code",
   "execution_count": null,
   "id": "03823bc5",
   "metadata": {},
   "outputs": [],
   "source": [
    "plotSTD(results_whole,\"std\")"
   ]
  },
  {
   "cell_type": "markdown",
   "id": "885f0092",
   "metadata": {},
   "source": [
    "### Figure 1C"
   ]
  },
  {
   "cell_type": "code",
   "execution_count": null,
   "id": "09b31ad6",
   "metadata": {},
   "outputs": [],
   "source": [
    "plotCPS_bar_train(results_whole,\"cpsScore_cll\")"
   ]
  },
  {
   "cell_type": "markdown",
   "id": "204c17b7",
   "metadata": {},
   "source": [
    "## 2. Cervical Dataset"
   ]
  },
  {
   "cell_type": "markdown",
   "id": "967e6a9a",
   "metadata": {},
   "source": [
    "### Setup"
   ]
  },
  {
   "cell_type": "code",
   "execution_count": null,
   "id": "8bae6fc5",
   "metadata": {},
   "outputs": [],
   "source": [
    "# change directory to the cervical results folder.\n",
    "# All the plots will be saved here.\n",
    "os.chdir(os.path.join(resultsFolder,\"cervical\"))\n",
    "\n",
    "# load dataset\n",
    "results_whole = pickle.load(open(\"results_whole.pickle\",'rb'))"
   ]
  },
  {
   "cell_type": "markdown",
   "id": "ac4269d8",
   "metadata": {},
   "source": [
    "### Figure 1B"
   ]
  },
  {
   "cell_type": "code",
   "execution_count": null,
   "id": "fd95c0a2",
   "metadata": {},
   "outputs": [],
   "source": [
    "plotSTD(results_whole,\"std\")"
   ]
  },
  {
   "cell_type": "markdown",
   "id": "9e8d48c4",
   "metadata": {},
   "source": [
    "### Figure 1D"
   ]
  },
  {
   "cell_type": "code",
   "execution_count": null,
   "id": "cd650377",
   "metadata": {},
   "outputs": [],
   "source": [
    "plotCPS_bar_train(results_whole,\"cpsScore_cervical\")"
   ]
  },
  {
   "cell_type": "markdown",
   "id": "2fb90f10",
   "metadata": {},
   "source": [
    "## 3. TCGA miRNA Dataset"
   ]
  },
  {
   "cell_type": "markdown",
   "id": "00100a01",
   "metadata": {},
   "source": [
    "### Setup"
   ]
  },
  {
   "cell_type": "code",
   "execution_count": null,
   "id": "5c768bb0",
   "metadata": {},
   "outputs": [],
   "source": [
    "# change directory to the TCGA miRNA results folder.\n",
    "# All the plots will be saved here.\n",
    "os.chdir(os.path.join(resultsFolder,\"TCGA-BRCA_miRNA\"))\n",
    "\n",
    "# load dataset\n",
    "results_whole = pickle.load(open(\"results_whole.pickle\",'rb'))\n",
    "results_test = pickle.load(open(\"results_test.pickle\",'rb'))"
   ]
  },
  {
   "cell_type": "markdown",
   "id": "da1fd28a",
   "metadata": {},
   "source": [
    "### Figure 2A"
   ]
  },
  {
   "cell_type": "code",
   "execution_count": null,
   "id": "0ab1cb3b",
   "metadata": {},
   "outputs": [],
   "source": [
    "plotSTD(results_whole,\"std\")"
   ]
  },
  {
   "cell_type": "markdown",
   "id": "36eae82b",
   "metadata": {},
   "source": [
    "### Figure 2C"
   ]
  },
  {
   "cell_type": "code",
   "execution_count": null,
   "id": "fdfe3552",
   "metadata": {},
   "outputs": [],
   "source": [
    "plotCPS_bar_test_train(results_whole,results_test,\"cpsScore_tcga_miRNA\")"
   ]
  },
  {
   "cell_type": "markdown",
   "id": "208b1f21",
   "metadata": {},
   "source": [
    "## 4. TCGA mRNA Dataset"
   ]
  },
  {
   "cell_type": "markdown",
   "id": "73cf15f9",
   "metadata": {},
   "source": [
    "### Setup"
   ]
  },
  {
   "cell_type": "code",
   "execution_count": null,
   "id": "1f881e0b",
   "metadata": {},
   "outputs": [],
   "source": [
    "# change directory to the TCGA mRNA results folder.\n",
    "# All the plots will be saved here.\n",
    "os.chdir(os.path.join(resultsFolder,\"TCGA-BRCA_mRNA\"))\n",
    "\n",
    "# load dataset\n",
    "results_whole = pickle.load(open(\"results_whole.pickle\",'rb'))\n",
    "results_test = pickle.load(open(\"results_test.pickle\",'rb'))"
   ]
  },
  {
   "cell_type": "markdown",
   "id": "a2d37eba",
   "metadata": {},
   "source": [
    "### Figure 2B"
   ]
  },
  {
   "cell_type": "code",
   "execution_count": null,
   "id": "ceb5ea05",
   "metadata": {},
   "outputs": [],
   "source": [
    "plotSTD(results_whole,\"std\")"
   ]
  },
  {
   "cell_type": "markdown",
   "id": "66799903",
   "metadata": {},
   "source": [
    "### Figure 2D"
   ]
  },
  {
   "cell_type": "code",
   "execution_count": null,
   "id": "6a4b1e59",
   "metadata": {},
   "outputs": [],
   "source": [
    "plotCPS_bar_test_train(results_whole,results_test,\"cpsScore_tcga_mRNA\")"
   ]
  },
  {
   "cell_type": "markdown",
   "id": "3f915b10",
   "metadata": {},
   "source": [
    "## 5. Body Signal Dataset"
   ]
  },
  {
   "cell_type": "markdown",
   "id": "dce81bc9",
   "metadata": {},
   "source": [
    "### Setup"
   ]
  },
  {
   "cell_type": "code",
   "execution_count": null,
   "id": "816324dc",
   "metadata": {},
   "outputs": [],
   "source": [
    "# change directory to the Body Signal results folder.\n",
    "# All the plots will be saved here.\n",
    "os.chdir(os.path.join(resultsFolder,\"body_signal\"))\n",
    "\n",
    "# load dataset\n",
    "train=pd.read_excel(\"train.xlsx\",index_col=0)\n",
    "test=pd.read_excel(\"test.xlsx\",index_col=0)"
   ]
  },
  {
   "cell_type": "markdown",
   "id": "a0b2179a",
   "metadata": {},
   "source": [
    "### Figure S4A"
   ]
  },
  {
   "cell_type": "code",
   "execution_count": null,
   "id": "02bfb846",
   "metadata": {},
   "outputs": [],
   "source": [
    "stdPlotNew(train,\"std\")"
   ]
  },
  {
   "cell_type": "markdown",
   "id": "88e03484",
   "metadata": {},
   "source": [
    "### Figure S4B"
   ]
  },
  {
   "cell_type": "code",
   "execution_count": null,
   "id": "08d5a9e1",
   "metadata": {},
   "outputs": [],
   "source": [
    "# Figure S4B\n",
    "bar_new(train,test,\"cpsScore_body_signal\")"
   ]
  }
 ],
 "metadata": {
  "kernelspec": {
   "display_name": "Python 3 (ipykernel)",
   "language": "python",
   "name": "python3"
  },
  "language_info": {
   "codemirror_mode": {
    "name": "ipython",
    "version": 3
   },
   "file_extension": ".py",
   "mimetype": "text/x-python",
   "name": "python",
   "nbconvert_exporter": "python",
   "pygments_lexer": "ipython3",
   "version": "3.10.4"
  }
 },
 "nbformat": 4,
 "nbformat_minor": 5
}
